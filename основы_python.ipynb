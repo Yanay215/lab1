{
  "cells": [
    {
      "cell_type": "markdown",
      "metadata": {
        "id": "M-DGa20PaHnu"
      },
      "source": [
        "#Задача 1\n",
        "Написать функцию на вход которой подается строка, состоящая из латинских букв.\n",
        "Функция должна вернуть количество гласных букв (a, e, i, o, u) в этой строке. Написать тесты для кода"
      ]
    },
    {
      "cell_type": "code",
      "execution_count": null,
      "metadata": {
        "id": "XvX8X_JJ6PCb"
      },
      "outputs": [],
      "source": [
        "# Your code goes here\n",
        "#Задача 1\n",
        "def kol_glas(s):\n",
        "    count = 0\n",
        "    for i in s.lower():\n",
        "        if i in ['a','e','i','o','u']:\n",
        "            count += 1\n",
        "    return count\n",
        "\n",
        "#Тесты на задачу 1\n",
        "def test_kol_glas():\n",
        "    assert kol_glas('hello')==2\n",
        "    assert kol_glas('world')==1\n",
        "    assert kol_glas('PYTHON')==1\n",
        "    assert kol_glas('12345')==0\n",
        "    assert kol_glas('!@#$%^&*()')==0\n",
        "    assert kol_glas('qwrty')==0\n"
      ]
    },
    {
      "cell_type": "markdown",
      "metadata": {
        "id": "t2ClV_Y0bbr6"
      },
      "source": [
        "# Задача 2\n",
        "Написать функцию на вход, которой подается строка. Функция должна вернуть true, если\n",
        "каждый символ в строке встречается только 1 раз, иначе должна вернуть false. Написать тесты для кода"
      ]
    },
    {
      "cell_type": "code",
      "execution_count": null,
      "metadata": {
        "id": "FppbECao6VIz"
      },
      "outputs": [],
      "source": [
        "# Your code goes here\n",
        "#Задача 2\n",
        "def odin(s):\n",
        "    if len(s)==len(set(s)):\n",
        "        return True\n",
        "    else:\n",
        "        return False\n",
        "\n",
        "#Тесты на задачу 2\n",
        "def test_odin():\n",
        "    assert odin('hello')==False\n",
        "    assert odin('world')==True\n",
        "    assert odin('12345')==True\n",
        "    assert odin('!@#$%^&*()')==True\n",
        "    assert odin('!!23ol')==False\n"
      ]
    },
    {
      "cell_type": "markdown",
      "metadata": {
        "id": "udRiIK1cdt6E"
      },
      "source": [
        "# Задача 3\n",
        "Написать функцию, которая принимает положительное число и возвращает количество\n",
        "бит равных 1 в этом числе. Написать тесты для кода"
      ]
    },
    {
      "cell_type": "code",
      "execution_count": null,
      "metadata": {
        "id": "6tkfDJRz6dp_"
      },
      "outputs": [],
      "source": [
        "# Your code goes here\n",
        "#Задача 3\n",
        "def kol_odin(i):\n",
        "    b = bin(i)[2:]\n",
        "    return b.count('1')\n",
        "\n",
        "#Тесты на задачу 3\n",
        "def test_kol_odin():\n",
        "    assert kol_odin(0)==0\n",
        "    assert kol_odin(1)==1\n",
        "    assert kol_odin(20)==2\n",
        "    assert kol_odin(333)==5\n",
        "    assert kol_odin(4)==1\n"
      ]
    },
    {
      "cell_type": "markdown",
      "metadata": {
        "id": "26dDUz-Ae17N"
      },
      "source": [
        "# Задача 4\n",
        "Написать функцию, которая принимает положительное число. Функция должна вернуть то,\n",
        "сколько раз необходимо перемножать цифры числа или результат перемножения, чтобы\n",
        "получилось число состоящее из одной цифры.\n",
        "Например, для входного числа:\n",
        "· 39 функция должна вернуть 3, так как 3*9=27 => 2*7=14 => 1*4=4\n",
        "· 4 функция должна вернуть 0, так как число уже состоит из одной цифры\n",
        "· 999 функция должна вернуть 4, так как 9*9*9=729 => 7*2*9=126 => 1*2*6=12 =>\n",
        "1*2=2. Написать тесты для кода"
      ]
    },
    {
      "cell_type": "code",
      "execution_count": null,
      "metadata": {
        "id": "BH1A_Mgi6i4G"
      },
      "outputs": [],
      "source": [
        "#Задача 4\n",
        "def magic(n):\n",
        "    if n//10==0:\n",
        "        return 0\n",
        "    else:\n",
        "        count = 0\n",
        "        s=str(n)\n",
        "        while len(s)>1:\n",
        "            a = 1\n",
        "            for i in s:\n",
        "                a*=int(i)\n",
        "            count+=1\n",
        "            s=str(a)\n",
        "        return count\n",
        "    pass\n",
        "\n",
        "#Тесты на задачу 4\n",
        "def test_magic():\n",
        "    assert magic(0)==0\n",
        "    assert magic(1)==0\n",
        "    assert magic(20)==1\n",
        "    assert magic(333)==3\n",
        "    assert magic(7499)==4\n"
      ]
    },
    {
      "cell_type": "markdown",
      "metadata": {
        "id": "0nS-kIa8g8vd"
      },
      "source": [
        "# Задача 5\n",
        "Написать функцию, которая принимает два целочисленных вектора одинаковой длины и\n",
        "возвращает среднеквадратическое отклонение двух векторов. Написать тесты для кода"
      ]
    },
    {
      "cell_type": "code",
      "execution_count": null,
      "metadata": {
        "id": "8iphx4LM6xbx"
      },
      "outputs": [],
      "source": [
        "#Задача 5\n",
        "def mse(pred,true):\n",
        "    temp = 0\n",
        "    for m,n in zip(pred,true):\n",
        "        temp+=((m-n)**2)\n",
        "    return (temp/len(pred))**0.5\n",
        "    pass\n",
        "\n",
        "#Тесты на задачу 5\n",
        "def test_mse():\n",
        "    assert mse([1,2,3],[1,2,3])==0\n",
        "    assert mse([1,0,4],[2,2,3])==(2**0.5)\n",
        "    assert mse([3,4,5],[5,5,0])==(10**0.5)\n"
      ]
    },
    {
      "cell_type": "markdown",
      "metadata": {
        "id": "vpIPKL439zkw"
      },
      "source": [
        "# Задача 6\n",
        "Написать функцию, принимающая целое положительное число. Функция должна вернуть\n",
        "строку вида “(n1**p1)(n2**p2)…(nk**pk)” представляющая разложение числа на простые\n",
        "множители (если pi == 1, то выводить только ni).\n",
        "Например, для числа 86240 функция должна вернуть “(2**5)(5)(7**2)(11)”. Написать тесты для кода"
      ]
    },
    {
      "cell_type": "code",
      "execution_count": null,
      "metadata": {
        "id": "pFebmcZk94Jw"
      },
      "outputs": [],
      "source": [
        "# Your code goes here\n",
        "#Задача 6\n",
        "def simplize(n):\n",
        "    d=2\n",
        "    s_d = []\n",
        "    a = n\n",
        "    while d*d<=a:\n",
        "        if a%d==0:\n",
        "            s_d.append(d)\n",
        "            a=a//d\n",
        "        else:\n",
        "            d+=1\n",
        "    if a>1:\n",
        "        s_d.append(a)\n",
        "    b = sorted(list(set(s_d)))\n",
        "    counts = [s_d.count(i) for i in b]\n",
        "    ans = \"\"\n",
        "    for k,l in zip(b,counts):\n",
        "        if l==1:\n",
        "            ans += '('+str(k)+')'\n",
        "        else:\n",
        "            ans += '('+str(k)+\"**\"+str(l)+')'\n",
        "    return ans\n",
        "\n",
        "#Тесты на задачу 6\n",
        "def test_simplize():\n",
        "    assert simplize(86240)=='(2**5)(5)(7**2)(11)'\n",
        "    assert simplize(12345)=='(3)(5)(823)'\n",
        "    assert simplize(100)=='(2**2)(5**2)'\n"
      ]
    },
    {
      "cell_type": "markdown",
      "metadata": {
        "id": "ps2s0BudX7A2"
      },
      "source": [
        "# Задача 7\n",
        "Написать функцию, принимающая целое число n, задающее количество кубиков. Функция\n",
        "должна определить, можно ли из данного кол-ва кубиков построить пирамиду, то есть\n",
        "можно ли представить число n как 1^2+2^2+3^2+…+k^2. Если можно, то функция должна\n",
        "вернуть k, иначе строку “It is impossible”. Написать тесты для кода"
      ]
    },
    {
      "cell_type": "code",
      "execution_count": null,
      "metadata": {
        "id": "3YPjEXxhX_YT"
      },
      "outputs": [],
      "source": [
        "#Задача 7\n",
        "def pyramid(number):\n",
        "    summ = 1\n",
        "    k = 1\n",
        "    while summ<number:\n",
        "        k+=1\n",
        "        summ+=k**2\n",
        "    if summ==number:\n",
        "        return k\n",
        "    else:\n",
        "        return \"It's impossible\"\n",
        "    pass\n",
        "\n",
        "#Тесты на задачу 7\n",
        "def test_pyramid():\n",
        "    assert pyramid(100)==\"It's impossible\"\n",
        "    assert pyramid(14)==3\n",
        "    assert pyramid(30)==4\n",
        "    assert pyramid(144)==\"It's impossible\"\n"
      ]
    },
    {
      "cell_type": "markdown",
      "metadata": {
        "id": "KeKgmIdAQMEJ"
      },
      "source": [
        "# Задача 8\n",
        "Функция принимает на вход положительное число и определяет является ли оно сбалансированным, т.е. сумма цифр до средних равна сумме цифр после. Средними в случае нечетного числа цифр считать одну цифру, в случае четного - две средних. Написать тесты для кода"
      ]
    },
    {
      "cell_type": "code",
      "execution_count": null,
      "metadata": {
        "id": "gMAAqtqlQrZt"
      },
      "outputs": [],
      "source": [
        "# Your code goes here\n",
        "#Задача 8\n",
        "def is_balanced(n):\n",
        "    mid = len(str(n))//2\n",
        "    if len(str(n))%2:\n",
        "        r, l = str(n)[:mid], str(n)[mid+1:]\n",
        "    else:\n",
        "        r, l = str(n)[:mid], str(n)[mid:]\n",
        "    rn, ln = sum(map(int, r)), sum(map(int, l))\n",
        "    return rn==ln\n",
        "\n",
        "#Тесты на задачу 8\n",
        "def test_is_balanced():\n",
        "    assert is_balanced(121)==True\n",
        "    assert is_balanced(1234)==False\n",
        "    assert is_balanced(92365)==True\n",
        "    assert is_balanced(123456)==False\n",
        "    assert is_balanced(123006)==True"
      ]
    }
  ],
  "metadata": {
    "colab": {
      "provenance": []
    },
    "kernelspec": {
      "display_name": "Python 3",
      "name": "python3"
    },
    "language_info": {
      "name": "python"
    }
  },
  "nbformat": 4,
  "nbformat_minor": 0
}
