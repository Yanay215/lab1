{
  "cells": [
    {
      "cell_type": "markdown",
      "metadata": {
        "id": "vC84e9kzyxPy"
      },
      "source": [
        "<h1>Импорт библиотек"
      ]
    },
    {
      "cell_type": "code",
      "execution_count": 3,
      "metadata": {
        "id": "cgKeNegmQG5S"
      },
      "outputs": [],
      "source": [
        "import numpy as np\n",
        "import matplotlib.pyplot as plt"
      ]
    },
    {
      "cell_type": "markdown",
      "metadata": {
        "id": "qFM9uVU2x4Ls"
      },
      "source": [
        "<h1>Задача 1. Дан набор из $p$ матриц размерностью $(n, n)$ и $p$ векторов размерностью $(n, 1)$, найти сумму произведений матриц на векторы. Написать тесты для кода"
      ]
    },
    {
      "cell_type": "code",
      "execution_count": null,
      "metadata": {
        "id": "IAbUvEiYyWFF"
      },
      "outputs": [],
      "source": [
        "def sum_prod(X, V):\n",
        "    '''\n",
        "    X - матрицы (n, n)\n",
        "    V - векторы (n, 1)\n",
        "    Гарантируется, что len(X) == len(V)\n",
        "    '''\n",
        "    # Your code goes here\n",
        "    return sum(np.dot(x,v) for x,v in zip(X,V))\n",
        "    pass\n",
        "\n",
        "#Тест на задачу 1\n",
        "def test_sum_prod():\n",
        "    matrix = [[[4,5],[6,7],[8,9]],[[1,2],[3,4],[5,6]]]\n",
        "    vector = [[1,2],[3,4]]\n",
        "    expected = [25,45,65]\n",
        "    assert np.array_equal(sum_prod(matrix,vector),expected)\n"
      ]
    },
    {
      "cell_type": "markdown",
      "metadata": {
        "id": "TKwPG4fIy2w4"
      },
      "source": [
        "<h1>Задача 2. Дана матрица M, напишите функцию, которая бинаризует матрицу по некоторому threshold (то есть, все значения большие threshold становятся равными 1, иначе 0). Напишите тесты для кода"
      ]
    },
    {
      "cell_type": "code",
      "execution_count": null,
      "metadata": {
        "id": "KQDNMgsjRNH7"
      },
      "outputs": [],
      "source": [
        "def binarize(M, threshold=0.5):\n",
        "    # Your code goes here\n",
        "    return np.array([1 if x>threshold else 0 for rows in M for x in rows]).reshape((len(M),len(M[0])))\n",
        "    pass\n",
        "\n",
        "#Тест на задачу 2\n",
        "def test_binarize():\n",
        "    matrix = [[0.1,0.2,0.3],[0.4,0.5,0.6],[0.7,0.8,0.9]]\n",
        "    expected = [[0,0,0],[0,0,1],[1,1,1]]\n",
        "    assert np.array_equal(binarize(matrix),expected)\n"
      ]
    },
    {
      "cell_type": "markdown",
      "metadata": {
        "id": "IY5L-h-7zWhN"
      },
      "source": [
        "<h1>Задача 3. Напишите функцию, которая возвращает уникальные элементы из каждой строки матрицы. Напишите такую же функцию, но для столбцов. Напишите тесты для кода"
      ]
    },
    {
      "cell_type": "code",
      "execution_count": null,
      "metadata": {
        "id": "-8dEZhR0SBC-"
      },
      "outputs": [],
      "source": [
        "def unique_rows(mat):\n",
        "    # Your code goes here\n",
        "    result = []\n",
        "    for i in mat:\n",
        "        result.extend(list(set(i)))\n",
        "    return sorted(result)\n",
        "    pass\n",
        "\n",
        "def unique_columns(mat):\n",
        "    # Your code goes here\n",
        "    result = []\n",
        "    for i in np.transpose(mat):\n",
        "        result.extend(list(set(i.tolist())))\n",
        "    return sorted(result)\n",
        "    pass\n",
        "\n",
        "#Тест на задачу 3\n",
        "def test_unique_rows():\n",
        "    matrix = [[1,2,2],[4,5,6],[7,7,7]]\n",
        "    expected = [1,2,4,5,6,7]\n",
        "    assert np.array_equal(unique_rows(matrix),expected)\n",
        "\n",
        "def test_unique_columns():\n",
        "    matrix = [[1,2,3],[1,1,6],[1,8,9]]\n",
        "    expected = [1, 1, 2, 3, 6, 8, 9]\n",
        "    assert np.array_equal(unique_columns(matrix),expected)\n"
      ]
    },
    {
      "cell_type": "markdown",
      "metadata": {
        "id": "roYAlo4Jz-lH"
      },
      "source": [
        "<h1>Задача 4. Напишите функцию, которая заполняет матрицу с размерами $(m, n)$ случайными числами, распределенными по нормальному закону. Затем считает мат. ожидание и дисперсию для каждого из столбцов и строк, а также строит для каждой строки и столбца гистограмму значений (использовать функцию hist из модуля matplotlib.plot)"
      ]
    },
    {
      "cell_type": "code",
      "execution_count": null,
      "metadata": {
        "id": "nZK_71hMSQzv"
      },
      "outputs": [],
      "source": [
        "# Your code goes here\n",
        "#Задача 4\n",
        "def magic(m,n):\n",
        "    matrix = np.random.normal(0,1,(m,n))\n",
        "    mean = []\n",
        "    var = []\n",
        "    for i in matrix:\n",
        "        mean.append(np.mean(i))\n",
        "        var.append(np.var(i))\n",
        "        plt.hist(i,bins=100)\n",
        "        plt.show()\n",
        "    tr_matrix = np.transpose(matrix)\n",
        "    for i in tr_matrix:\n",
        "        mean.append(np.mean(i))\n",
        "        var.append(np.var(i))\n",
        "        plt.hist(i,bins=100)\n",
        "        plt.show()\n",
        "    return mean,var\n"
      ]
    },
    {
      "cell_type": "markdown",
      "metadata": {
        "id": "BDyATNdM0dJ2"
      },
      "source": [
        "<h1>Задача 5. Напишите функцию, которая заполняет матрицу $(m, n)$ в шахматном порядке заданными числами $a$ и $b$. Напишите тесты для кода"
      ]
    },
    {
      "cell_type": "code",
      "execution_count": null,
      "metadata": {
        "id": "RWNJYWQGecS6"
      },
      "outputs": [],
      "source": [
        "def chess(m, n, a, b):\n",
        "    # Your code goes here\n",
        "    matrix = np.zeros((m,n))\n",
        "    matrix[::2,::2] = a\n",
        "    matrix[1::2,1::2] = a\n",
        "    matrix[1::2,::2] = b\n",
        "    matrix[::2,1::2] = b\n",
        "    return matrix\n",
        "    pass\n",
        "\n",
        "#Тест на задачу 5\n",
        "def test_chess():\n",
        "    matrix = chess(4,5,1,2)\n",
        "    expected = [[1,2,1,2,1],\n",
        "                [2,1,2,1,2],\n",
        "                [1,2,1,2,1],\n",
        "                [2,1,2,1,2]]\n",
        "    assert np.array_equal(matrix,expected)\n"
      ]
    },
    {
      "cell_type": "markdown",
      "metadata": {
        "id": "-ymXLtTN0vB6"
      },
      "source": [
        "<h1>Задача 6. Напишите функцию, которая отрисовывает прямоугольник с заданными размерами (a, b) на изображении размера (m, n), цвет фона задайте в схеме RGB, как и цвет прямоугольника. Цвета также должны быть параметрами функции. Напишите аналогичную функцию но для овала с полуосями a и b. Напишите тесты для кода.\n",
        "Примечание: уравнение эллипса (границы овала) можно записать как:\n",
        "<h1>$\\frac{(x-x_0)^2}{a^2}+\\frac{(y-y_0)^2}{b^2}=1$"
      ]
    },
    {
      "cell_type": "code",
      "execution_count": 1,
      "metadata": {
        "id": "sNfl1t_kfOF4"
      },
      "outputs": [],
      "source": [
        "def draw_rectangle(a, b, m, n, rectangle_color, background_color):\n",
        "    # Your code goes here\n",
        "    fig = np.ones((m,n,3))*background_color\n",
        "    fig[:a,:b] = rectangle_color\n",
        "    plt.imshow(fig)\n",
        "    plt.show()\n",
        "    pass\n",
        "\n",
        "def draw_ellipse(a, b, m, n, ellipse_color, background_color):\n",
        "    # Your code goes here\n",
        "    x, y = np.ogrid[:n, :m]\n",
        "    equation = ((x-n/2)**2)/(a**2) + ((y-m/2)**2)/(b**2)\n",
        "    fig = np.ones((m,n,3))*background_color\n",
        "    fig[equation<=1] = ellipse_color\n",
        "    plt.imshow(fig)\n",
        "    plt.show()\n",
        "    pass"
      ]
    },
    {
      "cell_type": "markdown",
      "metadata": {
        "id": "S82c38oz244H"
      },
      "source": [
        "<h1>Задача 7. Дан некий временной ряд. Для данного ряда нужно найти его: математическое ожидание, дисперсию, СКО, найти все локальные максимумы и минимумы (локальный максимум - это точка, которая больше своих соседних точек, а локальный минимум - это точка, которая меньше своих соседей), а также вычислить для данного ряда другой ряд, получаемый методом скользящего среднего с размером окна $p$.\n",
        "<h1>Примечание: метод скользящего среднего подразумевает нахождение среднего из подмножетсва ряда размером $p$"
      ]
    },
    {
      "cell_type": "code",
      "execution_count": null,
      "metadata": {
        "id": "Zb9mIVge5MMt"
      },
      "outputs": [],
      "source": [
        "# Your code goes here\n",
        "#Задача 7\n",
        "def time_magic(t, p):\n",
        "    mean = np.mean(t)\n",
        "    var = np.var(t)\n",
        "    std = np.std(t)\n",
        "    loc_max = [t[i] for i in range(len(t)) if i in (np.where(np.append(np.nan,np.diff(np.sign(np.append(np.nan,np.diff(t)))))<0)[0]-1)]\n",
        "    loc_min = [t[i] for i in range(len(t)) if i in (np.where(np.append(np.nan,np.diff(np.sign(np.append(np.nan,np.diff(t)))))>0)[0]-1)]\n",
        "    moving_avg = np.convolve(t, np.ones(p)/p, mode='valid')\n",
        "    return list((mean, var, std, loc_max, loc_min, moving_avg))\n",
        "\n",
        "#Тест на задачу 7\n",
        "def test_time_magic():\n",
        "    t = [1,5,3,8,9,1,8,7,6,5,4,3,2,1,0]\n",
        "    p = 3\n",
        "    expected_mean = np.mean(t)\n",
        "    expected_var = np.var(t)\n",
        "    expected_std = np.std(t)\n",
        "    expected_loc_max = [5,9,8]\n",
        "    expected_loc_min = [3,1]\n",
        "    expected_moving_avg = np.convolve(t, np.ones(p)/p, mode='valid')\n",
        "    l = list((expected_mean,expected_var,expected_std,expected_loc_max,expected_loc_min,expected_moving_avg))\n",
        "    for i in range(len(l)):\n",
        "        assert np.array_equal(time_magic(t,p)[i],l[i])\n"
      ]
    },
    {
      "cell_type": "markdown",
      "metadata": {
        "id": "jPkylmOX5O9n"
      },
      "source": [
        "<h1> Задача 8. Дан некоторый вектор с целочисленными метками классов, напишите функцию, которая выполняет one-hot-encoding для данного вектора\n",
        "<h1> One-hot-encoding - представление, в котором на месте метки некоторого класса стоит 1, в остальных позициях стоит 0. Например для вектора [0, 2, 3, 0] one-hot-encoding выглядит как: [[1, 0, 0, 0], [0, 0, 1, 0], [0, 0, 0, 1], [1, 0, 0, 0]]"
      ]
    },
    {
      "cell_type": "code",
      "execution_count": null,
      "metadata": {
        "id": "Y-jlnZvw56lD"
      },
      "outputs": [],
      "source": [
        "# Your code goes here\n",
        "#Задача 8\n",
        "def one_hot_encoding(X):\n",
        "    result = np.zeros((len(X),max(X)+1))\n",
        "    result[np.arange(len(X)),X] = 1\n",
        "    return result\n",
        "\n",
        "#Тест на задачу 8\n",
        "def test_one_hot_encoding():\n",
        "    a = [1,0,3]\n",
        "    expected = [[0,1,0,0],\n",
        "                [1,0,0,0],\n",
        "                [0,0,0,1]]\n",
        "    assert np.array_equal(one_hot_encoding(a),expected)\n",
        "\n",
        "    b = [0,2,3,0]\n",
        "    expected_b = [[1,0,0,0],\n",
        "                  [0,0,1,0],\n",
        "                  [0,0,0,1],\n",
        "                  [1,0,0,0]]\n",
        "    assert np.array_equal(one_hot_encoding(b),expected_b)"
      ]
    }
  ],
  "metadata": {
    "colab": {
      "provenance": []
    },
    "kernelspec": {
      "display_name": "Python 3",
      "name": "python3"
    },
    "language_info": {
      "name": "python"
    }
  },
  "nbformat": 4,
  "nbformat_minor": 0
}
